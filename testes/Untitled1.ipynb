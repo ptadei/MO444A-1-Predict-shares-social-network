{
 "cells": [
  {
   "cell_type": "code",
   "execution_count": 3,
   "metadata": {},
   "outputs": [
    {
     "name": "stdout",
     "output_type": "stream",
     "text": [
      "(1, 12)\n",
      "(31714, 12)\n",
      "(31714, 1)\n"
     ]
    }
   ],
   "source": [
    "import numpy as np\n",
    "import pandas as pd\n",
    "import matplotlib.pyplot as plt\n",
    "\n",
    "my_data = pd.read_csv('train.csv')\n",
    "\n",
    "X = my_data.iloc[:,0:11]\n",
    "ones = np.ones([X.shape[0],1])\n",
    "# print(X)\n",
    "X = np.concatenate((ones,X),axis=1)\n",
    "y = my_data.iloc[:,11:12].values\n",
    "# print(X)\n",
    "theta = np.zeros([1,12])\n",
    "\n",
    "print(theta.shape)\n",
    "print(X.shape)\n",
    "print(y.shape)"
   ]
  }
 ],
 "metadata": {
  "kernelspec": {
   "display_name": "Python 3",
   "language": "python",
   "name": "python3"
  },
  "language_info": {
   "codemirror_mode": {
    "name": "ipython",
    "version": 3
   },
   "file_extension": ".py",
   "mimetype": "text/x-python",
   "name": "python",
   "nbconvert_exporter": "python",
   "pygments_lexer": "ipython3",
   "version": "3.6.4"
  }
 },
 "nbformat": 4,
 "nbformat_minor": 2
}
