{
 "cells": [
  {
   "cell_type": "code",
   "execution_count": null,
   "metadata": {},
   "outputs": [],
   "source": []
  },
  {
   "cell_type": "code",
   "execution_count": 1,
   "metadata": {},
   "outputs": [
    {
     "ename": "NameError",
     "evalue": "name 'np' is not defined",
     "output_type": "error",
     "traceback": [
      "\u001b[0;31m---------------------------------------------------------------------------\u001b[0m",
      "\u001b[0;31mNameError\u001b[0m                                 Traceback (most recent call last)",
      "\u001b[0;32m<ipython-input-1-c4ccf7b23c41>\u001b[0m in \u001b[0;36m<module>\u001b[0;34m()\u001b[0m\n\u001b[0;32m----> 1\u001b[0;31m \u001b[0mnp\u001b[0m\u001b[0;34m.\u001b[0m\u001b[0mrandom\u001b[0m\u001b[0;34m.\u001b[0m\u001b[0mseed\u001b[0m\u001b[0;34m(\u001b[0m\u001b[0;36m0\u001b[0m\u001b[0;34m)\u001b[0m\u001b[0;34m\u001b[0m\u001b[0m\n\u001b[0m\u001b[1;32m      2\u001b[0m \u001b[0mthetas\u001b[0m \u001b[0;34m=\u001b[0m \u001b[0mnp\u001b[0m\u001b[0;34m.\u001b[0m\u001b[0mrandom\u001b[0m\u001b[0;34m.\u001b[0m\u001b[0mrand\u001b[0m\u001b[0;34m(\u001b[0m\u001b[0mlen\u001b[0m\u001b[0;34m(\u001b[0m\u001b[0mX2\u001b[0m\u001b[0;34m[\u001b[0m\u001b[0;36m0\u001b[0m\u001b[0;34m]\u001b[0m\u001b[0;34m)\u001b[0m\u001b[0;34m)\u001b[0m\u001b[0;34m\u001b[0m\u001b[0m\n",
      "\u001b[0;31mNameError\u001b[0m: name 'np' is not defined"
     ]
    }
   ],
   "source": [
    "np.random.seed(0)\n",
    "thetas = np.random.rand(len(X2[0]))"
   ]
  },
  {
   "cell_type": "code",
   "execution_count": 2,
   "metadata": {},
   "outputs": [],
   "source": [
    "def compute_cost(X, y, thetas):\n",
    "  m = y.size\n",
    "  y_pred = np.dot(X, thetas)\n",
    "  errors = y_pred - y\n",
    "  sqErrors = np.dot(errors.T, errors)\n",
    "\n",
    "  cost = 1/(2*m) * sqErrors\n",
    "\n",
    "  return errors, cost\n",
    "\n",
    "def minimize(X, thetas, alpha, errors):\n",
    "  m = len(X)\n",
    "  thetas_count = thetas.size\n",
    "\n",
    "  for i in range(thetas_count):\n",
    "    feature_i = X[:, i]\n",
    "    feature_i.shape = (m, 1)\n",
    "    \n",
    "    error = np.dot(errors, feature_i)\n",
    "\n",
    "    thetas[i] = thetas[i] - alpha * (1/m) * error.sum()\n",
    "    \n",
    "  return thetas\n",
    "\n",
    "def gradient_descent(X, y, thetas, alpha, iterations):\n",
    "  m = y.size\n",
    "  past_costs = []\n",
    "  past_thetas = [thetas]\n",
    "\n",
    "  for i in range(iterations):\n",
    "    errors, cost = compute_cost(X, y, thetas)\n",
    "\n",
    "    thetas = minimize(X, thetas, alpha, errors)\n",
    "\n",
    "    past_costs.append(cost)\n",
    "    past_thetas.append(thetas)\n",
    "\n",
    "  return past_thetas, past_cost"
   ]
  },
  {
   "cell_type": "code",
   "execution_count": null,
   "metadata": {},
   "outputs": [],
   "source": []
  },
  {
   "cell_type": "code",
   "execution_count": null,
   "metadata": {},
   "outputs": [],
   "source": []
  },
  {
   "cell_type": "code",
   "execution_count": null,
   "metadata": {},
   "outputs": [],
   "source": []
  },
  {
   "cell_type": "code",
   "execution_count": null,
   "metadata": {},
   "outputs": [],
   "source": []
  }
 ],
 "metadata": {
  "kernelspec": {
   "display_name": "Python 3",
   "language": "python",
   "name": "python3"
  },
  "language_info": {
   "codemirror_mode": {
    "name": "ipython",
    "version": 3
   },
   "file_extension": ".py",
   "mimetype": "text/x-python",
   "name": "python",
   "nbconvert_exporter": "python",
   "pygments_lexer": "ipython3",
   "version": "3.6.4"
  }
 },
 "nbformat": 4,
 "nbformat_minor": 2
}
