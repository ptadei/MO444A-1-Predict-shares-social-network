{
 "cells": [
  {
   "cell_type": "markdown",
   "metadata": {},
   "source": [
    "## Sem normalizar (quebra)"
   ]
  },
  {
   "cell_type": "code",
   "execution_count": 101,
   "metadata": {},
   "outputs": [],
   "source": [
    "import os  \n",
    "import numpy as np  \n",
    "import pandas as pd  \n",
    "import matplotlib.pyplot as plt  "
   ]
  },
  {
   "cell_type": "code",
   "execution_count": 102,
   "metadata": {},
   "outputs": [
    {
     "data": {
      "text/html": [
       "<div>\n",
       "<style scoped>\n",
       "    .dataframe tbody tr th:only-of-type {\n",
       "        vertical-align: middle;\n",
       "    }\n",
       "\n",
       "    .dataframe tbody tr th {\n",
       "        vertical-align: top;\n",
       "    }\n",
       "\n",
       "    .dataframe thead th {\n",
       "        text-align: right;\n",
       "    }\n",
       "</style>\n",
       "<table border=\"1\" class=\"dataframe\">\n",
       "  <thead>\n",
       "    <tr style=\"text-align: right;\">\n",
       "      <th></th>\n",
       "      <th>url</th>\n",
       "      <th>timedelta</th>\n",
       "      <th>n_tokens_title</th>\n",
       "      <th>n_tokens_content</th>\n",
       "      <th>n_unique_tokens</th>\n",
       "      <th>n_non_stop_words</th>\n",
       "      <th>n_non_stop_unique_tokens</th>\n",
       "      <th>num_hrefs</th>\n",
       "      <th>num_self_hrefs</th>\n",
       "      <th>num_imgs</th>\n",
       "      <th>...</th>\n",
       "      <th>min_positive_polarity</th>\n",
       "      <th>max_positive_polarity</th>\n",
       "      <th>avg_negative_polarity</th>\n",
       "      <th>min_negative_polarity</th>\n",
       "      <th>max_negative_polarity</th>\n",
       "      <th>title_subjectivity</th>\n",
       "      <th>title_sentiment_polarity</th>\n",
       "      <th>abs_title_subjectivity</th>\n",
       "      <th>abs_title_sentiment_polarity</th>\n",
       "      <th>shares</th>\n",
       "    </tr>\n",
       "  </thead>\n",
       "  <tbody>\n",
       "    <tr>\n",
       "      <th>0</th>\n",
       "      <td>http://mashable.com/2013/04/18/may-fourth-be-w...</td>\n",
       "      <td>630.0</td>\n",
       "      <td>12.0</td>\n",
       "      <td>363.0</td>\n",
       "      <td>0.571823</td>\n",
       "      <td>1.0</td>\n",
       "      <td>0.773585</td>\n",
       "      <td>5.0</td>\n",
       "      <td>3.0</td>\n",
       "      <td>1.0</td>\n",
       "      <td>...</td>\n",
       "      <td>0.033333</td>\n",
       "      <td>1.0</td>\n",
       "      <td>-0.250000</td>\n",
       "      <td>-0.4</td>\n",
       "      <td>-0.150000</td>\n",
       "      <td>0.571429</td>\n",
       "      <td>0.357143</td>\n",
       "      <td>0.071429</td>\n",
       "      <td>0.357143</td>\n",
       "      <td>5100</td>\n",
       "    </tr>\n",
       "    <tr>\n",
       "      <th>1</th>\n",
       "      <td>http://mashable.com/2014/05/23/edgar-wright-sh...</td>\n",
       "      <td>230.0</td>\n",
       "      <td>11.0</td>\n",
       "      <td>502.0</td>\n",
       "      <td>0.591919</td>\n",
       "      <td>1.0</td>\n",
       "      <td>0.777778</td>\n",
       "      <td>6.0</td>\n",
       "      <td>1.0</td>\n",
       "      <td>2.0</td>\n",
       "      <td>...</td>\n",
       "      <td>0.100000</td>\n",
       "      <td>0.8</td>\n",
       "      <td>-0.304167</td>\n",
       "      <td>-0.7</td>\n",
       "      <td>-0.050000</td>\n",
       "      <td>0.000000</td>\n",
       "      <td>0.000000</td>\n",
       "      <td>0.500000</td>\n",
       "      <td>0.000000</td>\n",
       "      <td>3100</td>\n",
       "    </tr>\n",
       "    <tr>\n",
       "      <th>2</th>\n",
       "      <td>http://mashable.com/2013/01/24/dont-count-appl...</td>\n",
       "      <td>714.0</td>\n",
       "      <td>6.0</td>\n",
       "      <td>951.0</td>\n",
       "      <td>0.433761</td>\n",
       "      <td>1.0</td>\n",
       "      <td>0.658635</td>\n",
       "      <td>22.0</td>\n",
       "      <td>19.0</td>\n",
       "      <td>1.0</td>\n",
       "      <td>...</td>\n",
       "      <td>0.062500</td>\n",
       "      <td>1.0</td>\n",
       "      <td>-0.317357</td>\n",
       "      <td>-1.0</td>\n",
       "      <td>-0.050000</td>\n",
       "      <td>0.000000</td>\n",
       "      <td>0.000000</td>\n",
       "      <td>0.500000</td>\n",
       "      <td>0.000000</td>\n",
       "      <td>1300</td>\n",
       "    </tr>\n",
       "    <tr>\n",
       "      <th>3</th>\n",
       "      <td>http://mashable.com/2014/08/09/8-ice-cream-rec...</td>\n",
       "      <td>151.0</td>\n",
       "      <td>9.0</td>\n",
       "      <td>496.0</td>\n",
       "      <td>0.569072</td>\n",
       "      <td>1.0</td>\n",
       "      <td>0.712934</td>\n",
       "      <td>10.0</td>\n",
       "      <td>3.0</td>\n",
       "      <td>1.0</td>\n",
       "      <td>...</td>\n",
       "      <td>0.050000</td>\n",
       "      <td>0.6</td>\n",
       "      <td>-0.188542</td>\n",
       "      <td>-0.4</td>\n",
       "      <td>-0.050000</td>\n",
       "      <td>0.000000</td>\n",
       "      <td>0.000000</td>\n",
       "      <td>0.500000</td>\n",
       "      <td>0.000000</td>\n",
       "      <td>1400</td>\n",
       "    </tr>\n",
       "    <tr>\n",
       "      <th>4</th>\n",
       "      <td>http://mashable.com/2013/01/11/marlon-wayans-h...</td>\n",
       "      <td>727.0</td>\n",
       "      <td>8.0</td>\n",
       "      <td>148.0</td>\n",
       "      <td>0.721088</td>\n",
       "      <td>1.0</td>\n",
       "      <td>0.865979</td>\n",
       "      <td>6.0</td>\n",
       "      <td>2.0</td>\n",
       "      <td>0.0</td>\n",
       "      <td>...</td>\n",
       "      <td>0.033333</td>\n",
       "      <td>1.0</td>\n",
       "      <td>-0.116667</td>\n",
       "      <td>-0.2</td>\n",
       "      <td>-0.033333</td>\n",
       "      <td>0.750000</td>\n",
       "      <td>0.800000</td>\n",
       "      <td>0.250000</td>\n",
       "      <td>0.800000</td>\n",
       "      <td>1000</td>\n",
       "    </tr>\n",
       "  </tbody>\n",
       "</table>\n",
       "<p>5 rows × 61 columns</p>\n",
       "</div>"
      ],
      "text/plain": [
       "                                                 url  timedelta  \\\n",
       "0  http://mashable.com/2013/04/18/may-fourth-be-w...      630.0   \n",
       "1  http://mashable.com/2014/05/23/edgar-wright-sh...      230.0   \n",
       "2  http://mashable.com/2013/01/24/dont-count-appl...      714.0   \n",
       "3  http://mashable.com/2014/08/09/8-ice-cream-rec...      151.0   \n",
       "4  http://mashable.com/2013/01/11/marlon-wayans-h...      727.0   \n",
       "\n",
       "   n_tokens_title  n_tokens_content  n_unique_tokens  n_non_stop_words  \\\n",
       "0            12.0             363.0         0.571823               1.0   \n",
       "1            11.0             502.0         0.591919               1.0   \n",
       "2             6.0             951.0         0.433761               1.0   \n",
       "3             9.0             496.0         0.569072               1.0   \n",
       "4             8.0             148.0         0.721088               1.0   \n",
       "\n",
       "   n_non_stop_unique_tokens  num_hrefs  num_self_hrefs  num_imgs   ...    \\\n",
       "0                  0.773585        5.0             3.0       1.0   ...     \n",
       "1                  0.777778        6.0             1.0       2.0   ...     \n",
       "2                  0.658635       22.0            19.0       1.0   ...     \n",
       "3                  0.712934       10.0             3.0       1.0   ...     \n",
       "4                  0.865979        6.0             2.0       0.0   ...     \n",
       "\n",
       "   min_positive_polarity  max_positive_polarity  avg_negative_polarity  \\\n",
       "0               0.033333                    1.0              -0.250000   \n",
       "1               0.100000                    0.8              -0.304167   \n",
       "2               0.062500                    1.0              -0.317357   \n",
       "3               0.050000                    0.6              -0.188542   \n",
       "4               0.033333                    1.0              -0.116667   \n",
       "\n",
       "   min_negative_polarity  max_negative_polarity  title_subjectivity  \\\n",
       "0                   -0.4              -0.150000            0.571429   \n",
       "1                   -0.7              -0.050000            0.000000   \n",
       "2                   -1.0              -0.050000            0.000000   \n",
       "3                   -0.4              -0.050000            0.000000   \n",
       "4                   -0.2              -0.033333            0.750000   \n",
       "\n",
       "   title_sentiment_polarity  abs_title_subjectivity  \\\n",
       "0                  0.357143                0.071429   \n",
       "1                  0.000000                0.500000   \n",
       "2                  0.000000                0.500000   \n",
       "3                  0.000000                0.500000   \n",
       "4                  0.800000                0.250000   \n",
       "\n",
       "   abs_title_sentiment_polarity  shares  \n",
       "0                      0.357143    5100  \n",
       "1                      0.000000    3100  \n",
       "2                      0.000000    1300  \n",
       "3                      0.000000    1400  \n",
       "4                      0.800000    1000  \n",
       "\n",
       "[5 rows x 61 columns]"
      ]
     },
     "execution_count": 102,
     "metadata": {},
     "output_type": "execute_result"
    }
   ],
   "source": [
    "data = pd.read_csv('train (copy).csv')\n",
    "data_test = pd.read_csv('test.csv')\n",
    "data_target = pd.read_csv('test_target.csv')\n",
    "test = pd.read_csv('test_data.csv')\n",
    "data.head()"
   ]
  },
  {
   "cell_type": "code",
   "execution_count": 103,
   "metadata": {},
   "outputs": [
    {
     "data": {
      "text/html": [
       "<div>\n",
       "<style scoped>\n",
       "    .dataframe tbody tr th:only-of-type {\n",
       "        vertical-align: middle;\n",
       "    }\n",
       "\n",
       "    .dataframe tbody tr th {\n",
       "        vertical-align: top;\n",
       "    }\n",
       "\n",
       "    .dataframe thead th {\n",
       "        text-align: right;\n",
       "    }\n",
       "</style>\n",
       "<table border=\"1\" class=\"dataframe\">\n",
       "  <thead>\n",
       "    <tr style=\"text-align: right;\">\n",
       "      <th></th>\n",
       "      <th>timedelta</th>\n",
       "      <th>n_tokens_title</th>\n",
       "      <th>n_tokens_content</th>\n",
       "      <th>n_unique_tokens</th>\n",
       "      <th>n_non_stop_words</th>\n",
       "      <th>n_non_stop_unique_tokens</th>\n",
       "      <th>num_hrefs</th>\n",
       "      <th>num_self_hrefs</th>\n",
       "      <th>num_imgs</th>\n",
       "      <th>num_videos</th>\n",
       "      <th>...</th>\n",
       "      <th>min_positive_polarity</th>\n",
       "      <th>max_positive_polarity</th>\n",
       "      <th>avg_negative_polarity</th>\n",
       "      <th>min_negative_polarity</th>\n",
       "      <th>max_negative_polarity</th>\n",
       "      <th>title_subjectivity</th>\n",
       "      <th>title_sentiment_polarity</th>\n",
       "      <th>abs_title_subjectivity</th>\n",
       "      <th>abs_title_sentiment_polarity</th>\n",
       "      <th>shares</th>\n",
       "    </tr>\n",
       "  </thead>\n",
       "  <tbody>\n",
       "    <tr>\n",
       "      <th>count</th>\n",
       "      <td>31715.000000</td>\n",
       "      <td>31715.000000</td>\n",
       "      <td>31715.000000</td>\n",
       "      <td>31715.000000</td>\n",
       "      <td>31715.000000</td>\n",
       "      <td>31715.000000</td>\n",
       "      <td>31715.000000</td>\n",
       "      <td>31715.000000</td>\n",
       "      <td>31715.000000</td>\n",
       "      <td>31715.000000</td>\n",
       "      <td>...</td>\n",
       "      <td>31715.000000</td>\n",
       "      <td>31715.000000</td>\n",
       "      <td>31715.000000</td>\n",
       "      <td>31715.000000</td>\n",
       "      <td>31715.000000</td>\n",
       "      <td>31715.000000</td>\n",
       "      <td>31715.000000</td>\n",
       "      <td>31715.000000</td>\n",
       "      <td>31715.000000</td>\n",
       "      <td>31715.000000</td>\n",
       "    </tr>\n",
       "    <tr>\n",
       "      <th>mean</th>\n",
       "      <td>354.478543</td>\n",
       "      <td>10.396090</td>\n",
       "      <td>546.736560</td>\n",
       "      <td>0.552612</td>\n",
       "      <td>1.003058</td>\n",
       "      <td>0.693278</td>\n",
       "      <td>10.873120</td>\n",
       "      <td>3.284692</td>\n",
       "      <td>4.553271</td>\n",
       "      <td>1.255021</td>\n",
       "      <td>...</td>\n",
       "      <td>0.095348</td>\n",
       "      <td>0.757242</td>\n",
       "      <td>-0.259586</td>\n",
       "      <td>-0.521935</td>\n",
       "      <td>-0.107494</td>\n",
       "      <td>0.280653</td>\n",
       "      <td>0.072275</td>\n",
       "      <td>0.342450</td>\n",
       "      <td>0.155627</td>\n",
       "      <td>3364.264386</td>\n",
       "    </tr>\n",
       "    <tr>\n",
       "      <th>std</th>\n",
       "      <td>213.799596</td>\n",
       "      <td>2.117283</td>\n",
       "      <td>472.670058</td>\n",
       "      <td>3.935691</td>\n",
       "      <td>5.848093</td>\n",
       "      <td>3.649376</td>\n",
       "      <td>11.375126</td>\n",
       "      <td>3.851006</td>\n",
       "      <td>8.372558</td>\n",
       "      <td>4.112758</td>\n",
       "      <td>...</td>\n",
       "      <td>0.071104</td>\n",
       "      <td>0.248184</td>\n",
       "      <td>0.127366</td>\n",
       "      <td>0.289919</td>\n",
       "      <td>0.094823</td>\n",
       "      <td>0.323644</td>\n",
       "      <td>0.265180</td>\n",
       "      <td>0.188618</td>\n",
       "      <td>0.226548</td>\n",
       "      <td>10742.884480</td>\n",
       "    </tr>\n",
       "    <tr>\n",
       "      <th>min</th>\n",
       "      <td>8.000000</td>\n",
       "      <td>2.000000</td>\n",
       "      <td>0.000000</td>\n",
       "      <td>0.000000</td>\n",
       "      <td>0.000000</td>\n",
       "      <td>0.000000</td>\n",
       "      <td>0.000000</td>\n",
       "      <td>0.000000</td>\n",
       "      <td>0.000000</td>\n",
       "      <td>0.000000</td>\n",
       "      <td>...</td>\n",
       "      <td>0.000000</td>\n",
       "      <td>0.000000</td>\n",
       "      <td>-1.000000</td>\n",
       "      <td>-1.000000</td>\n",
       "      <td>-1.000000</td>\n",
       "      <td>0.000000</td>\n",
       "      <td>-1.000000</td>\n",
       "      <td>0.000000</td>\n",
       "      <td>0.000000</td>\n",
       "      <td>1.000000</td>\n",
       "    </tr>\n",
       "    <tr>\n",
       "      <th>25%</th>\n",
       "      <td>166.000000</td>\n",
       "      <td>9.000000</td>\n",
       "      <td>247.000000</td>\n",
       "      <td>0.471080</td>\n",
       "      <td>1.000000</td>\n",
       "      <td>0.625791</td>\n",
       "      <td>4.000000</td>\n",
       "      <td>1.000000</td>\n",
       "      <td>1.000000</td>\n",
       "      <td>0.000000</td>\n",
       "      <td>...</td>\n",
       "      <td>0.050000</td>\n",
       "      <td>0.600000</td>\n",
       "      <td>-0.328359</td>\n",
       "      <td>-0.700000</td>\n",
       "      <td>-0.125000</td>\n",
       "      <td>0.000000</td>\n",
       "      <td>0.000000</td>\n",
       "      <td>0.166667</td>\n",
       "      <td>0.000000</td>\n",
       "      <td>945.000000</td>\n",
       "    </tr>\n",
       "    <tr>\n",
       "      <th>50%</th>\n",
       "      <td>339.000000</td>\n",
       "      <td>10.000000</td>\n",
       "      <td>410.000000</td>\n",
       "      <td>0.538784</td>\n",
       "      <td>1.000000</td>\n",
       "      <td>0.690476</td>\n",
       "      <td>7.000000</td>\n",
       "      <td>3.000000</td>\n",
       "      <td>1.000000</td>\n",
       "      <td>0.000000</td>\n",
       "      <td>...</td>\n",
       "      <td>0.100000</td>\n",
       "      <td>0.800000</td>\n",
       "      <td>-0.253333</td>\n",
       "      <td>-0.500000</td>\n",
       "      <td>-0.100000</td>\n",
       "      <td>0.125000</td>\n",
       "      <td>0.000000</td>\n",
       "      <td>0.500000</td>\n",
       "      <td>0.000000</td>\n",
       "      <td>1400.000000</td>\n",
       "    </tr>\n",
       "    <tr>\n",
       "      <th>75%</th>\n",
       "      <td>541.000000</td>\n",
       "      <td>12.000000</td>\n",
       "      <td>716.000000</td>\n",
       "      <td>0.608871</td>\n",
       "      <td>1.000000</td>\n",
       "      <td>0.754717</td>\n",
       "      <td>14.000000</td>\n",
       "      <td>4.000000</td>\n",
       "      <td>4.000000</td>\n",
       "      <td>1.000000</td>\n",
       "      <td>...</td>\n",
       "      <td>0.100000</td>\n",
       "      <td>1.000000</td>\n",
       "      <td>-0.187226</td>\n",
       "      <td>-0.300000</td>\n",
       "      <td>-0.050000</td>\n",
       "      <td>0.500000</td>\n",
       "      <td>0.142857</td>\n",
       "      <td>0.500000</td>\n",
       "      <td>0.250000</td>\n",
       "      <td>2800.000000</td>\n",
       "    </tr>\n",
       "    <tr>\n",
       "      <th>max</th>\n",
       "      <td>731.000000</td>\n",
       "      <td>23.000000</td>\n",
       "      <td>8474.000000</td>\n",
       "      <td>701.000000</td>\n",
       "      <td>1042.000000</td>\n",
       "      <td>650.000000</td>\n",
       "      <td>304.000000</td>\n",
       "      <td>116.000000</td>\n",
       "      <td>128.000000</td>\n",
       "      <td>91.000000</td>\n",
       "      <td>...</td>\n",
       "      <td>1.000000</td>\n",
       "      <td>1.000000</td>\n",
       "      <td>0.000000</td>\n",
       "      <td>0.000000</td>\n",
       "      <td>0.000000</td>\n",
       "      <td>1.000000</td>\n",
       "      <td>1.000000</td>\n",
       "      <td>0.500000</td>\n",
       "      <td>1.000000</td>\n",
       "      <td>690400.000000</td>\n",
       "    </tr>\n",
       "  </tbody>\n",
       "</table>\n",
       "<p>8 rows × 60 columns</p>\n",
       "</div>"
      ],
      "text/plain": [
       "          timedelta  n_tokens_title  n_tokens_content  n_unique_tokens  \\\n",
       "count  31715.000000    31715.000000      31715.000000     31715.000000   \n",
       "mean     354.478543       10.396090        546.736560         0.552612   \n",
       "std      213.799596        2.117283        472.670058         3.935691   \n",
       "min        8.000000        2.000000          0.000000         0.000000   \n",
       "25%      166.000000        9.000000        247.000000         0.471080   \n",
       "50%      339.000000       10.000000        410.000000         0.538784   \n",
       "75%      541.000000       12.000000        716.000000         0.608871   \n",
       "max      731.000000       23.000000       8474.000000       701.000000   \n",
       "\n",
       "       n_non_stop_words  n_non_stop_unique_tokens     num_hrefs  \\\n",
       "count      31715.000000              31715.000000  31715.000000   \n",
       "mean           1.003058                  0.693278     10.873120   \n",
       "std            5.848093                  3.649376     11.375126   \n",
       "min            0.000000                  0.000000      0.000000   \n",
       "25%            1.000000                  0.625791      4.000000   \n",
       "50%            1.000000                  0.690476      7.000000   \n",
       "75%            1.000000                  0.754717     14.000000   \n",
       "max         1042.000000                650.000000    304.000000   \n",
       "\n",
       "       num_self_hrefs      num_imgs    num_videos      ...        \\\n",
       "count    31715.000000  31715.000000  31715.000000      ...         \n",
       "mean         3.284692      4.553271      1.255021      ...         \n",
       "std          3.851006      8.372558      4.112758      ...         \n",
       "min          0.000000      0.000000      0.000000      ...         \n",
       "25%          1.000000      1.000000      0.000000      ...         \n",
       "50%          3.000000      1.000000      0.000000      ...         \n",
       "75%          4.000000      4.000000      1.000000      ...         \n",
       "max        116.000000    128.000000     91.000000      ...         \n",
       "\n",
       "       min_positive_polarity  max_positive_polarity  avg_negative_polarity  \\\n",
       "count           31715.000000           31715.000000           31715.000000   \n",
       "mean                0.095348               0.757242              -0.259586   \n",
       "std                 0.071104               0.248184               0.127366   \n",
       "min                 0.000000               0.000000              -1.000000   \n",
       "25%                 0.050000               0.600000              -0.328359   \n",
       "50%                 0.100000               0.800000              -0.253333   \n",
       "75%                 0.100000               1.000000              -0.187226   \n",
       "max                 1.000000               1.000000               0.000000   \n",
       "\n",
       "       min_negative_polarity  max_negative_polarity  title_subjectivity  \\\n",
       "count           31715.000000           31715.000000        31715.000000   \n",
       "mean               -0.521935              -0.107494            0.280653   \n",
       "std                 0.289919               0.094823            0.323644   \n",
       "min                -1.000000              -1.000000            0.000000   \n",
       "25%                -0.700000              -0.125000            0.000000   \n",
       "50%                -0.500000              -0.100000            0.125000   \n",
       "75%                -0.300000              -0.050000            0.500000   \n",
       "max                 0.000000               0.000000            1.000000   \n",
       "\n",
       "       title_sentiment_polarity  abs_title_subjectivity  \\\n",
       "count              31715.000000            31715.000000   \n",
       "mean                   0.072275                0.342450   \n",
       "std                    0.265180                0.188618   \n",
       "min                   -1.000000                0.000000   \n",
       "25%                    0.000000                0.166667   \n",
       "50%                    0.000000                0.500000   \n",
       "75%                    0.142857                0.500000   \n",
       "max                    1.000000                0.500000   \n",
       "\n",
       "       abs_title_sentiment_polarity         shares  \n",
       "count                  31715.000000   31715.000000  \n",
       "mean                       0.155627    3364.264386  \n",
       "std                        0.226548   10742.884480  \n",
       "min                        0.000000       1.000000  \n",
       "25%                        0.000000     945.000000  \n",
       "50%                        0.000000    1400.000000  \n",
       "75%                        0.250000    2800.000000  \n",
       "max                        1.000000  690400.000000  \n",
       "\n",
       "[8 rows x 60 columns]"
      ]
     },
     "execution_count": 103,
     "metadata": {},
     "output_type": "execute_result"
    }
   ],
   "source": [
    "data.describe()"
   ]
  },
  {
   "cell_type": "code",
   "execution_count": 104,
   "metadata": {},
   "outputs": [
    {
     "data": {
      "text/plain": [
       "31697"
      ]
     },
     "execution_count": 104,
     "metadata": {},
     "output_type": "execute_result"
    }
   ],
   "source": [
    "len(data[data.shares < 150000])"
   ]
  },
  {
   "cell_type": "code",
   "execution_count": 105,
   "metadata": {},
   "outputs": [],
   "source": [
    "data = data[data.shares < 150000]"
   ]
  },
  {
   "cell_type": "code",
   "execution_count": 106,
   "metadata": {},
   "outputs": [
    {
     "data": {
      "text/plain": [
       "<matplotlib.axes._subplots.AxesSubplot at 0x7f20a54d34e0>"
      ]
     },
     "execution_count": 106,
     "metadata": {},
     "output_type": "execute_result"
    },
    {
     "data": {
      "image/png": "[encoded data removed]",
      "text/plain": [
       "<matplotlib.figure.Figure at 0x7f20a54dfcc0>"
      ]
     },
     "metadata": {},
     "output_type": "display_data"
    }
   ],
   "source": [
    "data.plot(kind='scatter', x='LDA_04', y='shares', figsize=(12,8))"
   ]
  },
  {
   "cell_type": "code",
   "execution_count": 107,
   "metadata": {},
   "outputs": [
    {
     "data": {
      "image/png": "[encoded data removed]",
      "text/plain": [
       "<matplotlib.figure.Figure at 0x7f20a54e9198>"
      ]
     },
     "metadata": {},
     "output_type": "display_data"
    }
   ],
   "source": [
    "data['shares'].hist(bins=500, figsize=(15,5));data['shares'].hist(bins=500, figsize=(15,5));"
   ]
  },
  {
   "cell_type": "code",
   "execution_count": 108,
   "metadata": {},
   "outputs": [],
   "source": [
    "def computeCost(X, y, theta):  \n",
    "    inner = np.power(((X * theta.T) - y), 2)\n",
    "    return np.sum(inner) / (2 * len(X))"
   ]
  },
  {
   "cell_type": "code",
   "execution_count": 109,
   "metadata": {},
   "outputs": [],
   "source": [
    "cols = data.shape[1]\n",
    "X = data.iloc[:,2:cols-1]  \n",
    "y = data.iloc[:,cols-1:cols]\n",
    "X.insert(0, 'Ones', 1)\n",
    "\n",
    "X = np.matrix(X.values)\n",
    "y = np.matrix(y.values)"
   ]
  },
  {
   "cell_type": "code",
   "execution_count": 110,
   "metadata": {},
   "outputs": [],
   "source": [
    "theta = np.matrix(np.array([0,0,0,0,0,0,0,0,0,0,0,0,0,0,0,0,0,0,0,0,0,0,0,0,0,0,0,0,0,0,0,0,0,0,0,0,0,0,0,0,0,0,0,0,0,0,0,0,0,0,0,0,0,0,0,0,0,0,0,]))"
   ]
  },
  {
   "cell_type": "code",
   "execution_count": 111,
   "metadata": {},
   "outputs": [
    {
     "data": {
      "text/plain": [
       "((31697, 59), (1, 59), (31697, 1))"
      ]
     },
     "execution_count": 111,
     "metadata": {},
     "output_type": "execute_result"
    }
   ],
   "source": [
    "X.shape, theta.shape, y.shape"
   ]
  },
  {
   "cell_type": "code",
   "execution_count": 8,
   "metadata": {},
   "outputs": [
    {
     "data": {
      "text/plain": [
       "28682958.221740227"
      ]
     },
     "execution_count": 8,
     "metadata": {},
     "output_type": "execute_result"
    }
   ],
   "source": [
    "computeCost(X, y, theta)"
   ]
  },
  {
   "cell_type": "code",
   "execution_count": 9,
   "metadata": {},
   "outputs": [],
   "source": [
    "def gradientDescent(X, y, theta, alpha, iters):  \n",
    "    temp = np.matrix(np.zeros(theta.shape))\n",
    "    parameters = int(theta.ravel().shape[1])\n",
    "    cost = np.zeros(iters)\n",
    "    for i in range(iters):\n",
    "        error = (X * theta.T) - y\n",
    "        for j in range(parameters):\n",
    "            term = np.multiply(error, X[:,j])\n",
    "            temp[0,j] = theta[0,j] - ((alpha / len(X)) * np.sum(term))\n",
    "\n",
    "        theta = temp\n",
    "        cost[i] = computeCost(X, y, theta)\n",
    "\n",
    "    return theta, cost"
   ]
  },
  {
   "cell_type": "code",
   "execution_count": 10,
   "metadata": {},
   "outputs": [],
   "source": [
    "# initialize variables for learning rate and iterations\n",
    "alpha = 0.000000000001\n",
    "iters = 1000\n",
    "\n",
    "# perform gradient descent to \"fit\" the model parameters\n",
    "g, cost = gradientDescent(X, y, theta, alpha, iters)  \n",
    "# print(g), print(cost)"
   ]
  },
  {
   "cell_type": "code",
   "execution_count": 15,
   "metadata": {},
   "outputs": [
    {
     "data": {
      "text/plain": [
       "23680231.70857172"
      ]
     },
     "execution_count": 15,
     "metadata": {},
     "output_type": "execute_result"
    }
   ],
   "source": [
    "computeCost(X, y, g)"
   ]
  },
  {
   "cell_type": "code",
   "execution_count": 16,
   "metadata": {},
   "outputs": [
    {
     "data": {
      "text/plain": [
       "Text(0.5,1,'Predicted LDA_04 vs. Shares')"
      ]
     },
     "execution_count": 16,
     "metadata": {},
     "output_type": "execute_result"
    },
    {
     "data": {
      "image/png": "[encoded data removed]",
      "text/plain": [
       "<matplotlib.figure.Figure at 0x7f149695dbe0>"
      ]
     },
     "metadata": {},
     "output_type": "display_data"
    }
   ],
   "source": [
    "x = np.linspace(data.LDA_04.min(), data.LDA_04.max(), 100)  \n",
    "    f = g[0, 0] + (g[0, 1] * x)\n",
    "\n",
    "fig, ax = plt.subplots(figsize=(12,8))  \n",
    "ax.plot(x, f, 'r', label='Prediction')  \n",
    "ax.scatter(data.LDA_04, data.shares, label='Traning Data', alpha=.3)  \n",
    "ax.legend(loc=2)  \n",
    "ax.set_xlabel('LDA_94')  \n",
    "ax.set_ylabel('Shares')  \n",
    "ax.set_title('Predicted LDA_04 vs. Shares')"
   ]
  },
  {
   "cell_type": "code",
   "execution_count": 17,
   "metadata": {},
   "outputs": [
    {
     "data": {
      "text/plain": [
       "Text(0.5,1,'Error vs. Training Epoch')"
      ]
     },
     "execution_count": 17,
     "metadata": {},
     "output_type": "execute_result"
    },
    {
     "data": {
      "image/png": "[encoded data removed]",
      "text/plain": [
       "<matplotlib.figure.Figure at 0x7f1496aa4320>"
      ]
     },
     "metadata": {},
     "output_type": "display_data"
    }
   ],
   "source": [
    "fig, ax = plt.subplots(figsize=(12,8))  \n",
    "ax.plot(np.arange(iters), cost, 'r')  \n",
    "ax.set_xlabel('Iterations')  \n",
    "ax.set_ylabel('Cost')  \n",
    "ax.set_title('Error vs. Training Epoch')"
   ]
  },
  {
   "cell_type": "markdown",
   "metadata": {},
   "source": [
    "## Feature Normalization and 2+ variables"
   ]
  },
  {
   "cell_type": "code",
   "execution_count": 91,
   "metadata": {},
   "outputs": [],
   "source": [
    "#prepando os dados\n",
    "data2 = data[data.shares < 150000]\n",
    "cols = data2.shape[1]\n",
    "data2 = data2.iloc[:,2:cols]"
   ]
  },
  {
   "cell_type": "code",
   "execution_count": 92,
   "metadata": {},
   "outputs": [
    {
     "data": {
      "text/html": [
       "<div>\n",
       "<style scoped>\n",
       "    .dataframe tbody tr th:only-of-type {\n",
       "        vertical-align: middle;\n",
       "    }\n",
       "\n",
       "    .dataframe tbody tr th {\n",
       "        vertical-align: top;\n",
       "    }\n",
       "\n",
       "    .dataframe thead th {\n",
       "        text-align: right;\n",
       "    }\n",
       "</style>\n",
       "<table border=\"1\" class=\"dataframe\">\n",
       "  <thead>\n",
       "    <tr style=\"text-align: right;\">\n",
       "      <th></th>\n",
       "      <th>n_tokens_title</th>\n",
       "      <th>n_tokens_content</th>\n",
       "      <th>n_unique_tokens</th>\n",
       "      <th>n_non_stop_words</th>\n",
       "      <th>n_non_stop_unique_tokens</th>\n",
       "      <th>num_hrefs</th>\n",
       "      <th>num_self_hrefs</th>\n",
       "      <th>num_imgs</th>\n",
       "      <th>num_videos</th>\n",
       "      <th>average_token_length</th>\n",
       "      <th>...</th>\n",
       "      <th>min_positive_polarity</th>\n",
       "      <th>max_positive_polarity</th>\n",
       "      <th>avg_negative_polarity</th>\n",
       "      <th>min_negative_polarity</th>\n",
       "      <th>max_negative_polarity</th>\n",
       "      <th>title_subjectivity</th>\n",
       "      <th>title_sentiment_polarity</th>\n",
       "      <th>abs_title_subjectivity</th>\n",
       "      <th>abs_title_sentiment_polarity</th>\n",
       "      <th>shares</th>\n",
       "    </tr>\n",
       "  </thead>\n",
       "  <tbody>\n",
       "    <tr>\n",
       "      <th>0</th>\n",
       "      <td>0.154283</td>\n",
       "      <td>-0.335967</td>\n",
       "      <td>0.034700</td>\n",
       "      <td>-0.003114</td>\n",
       "      <td>0.115770</td>\n",
       "      <td>-0.540114</td>\n",
       "      <td>-0.086779</td>\n",
       "      <td>-0.780347</td>\n",
       "      <td>-0.202531</td>\n",
       "      <td>-0.007974</td>\n",
       "      <td>...</td>\n",
       "      <td>-0.650447</td>\n",
       "      <td>0.320558</td>\n",
       "      <td>-0.036883</td>\n",
       "      <td>-0.233601</td>\n",
       "      <td>0.395708</td>\n",
       "      <td>1.036047</td>\n",
       "      <td>3.938696</td>\n",
       "      <td>-0.791388</td>\n",
       "      <td>1.294888</td>\n",
       "      <td>0.597637</td>\n",
       "    </tr>\n",
       "    <tr>\n",
       "      <th>1</th>\n",
       "      <td>0.058093</td>\n",
       "      <td>-0.081696</td>\n",
       "      <td>0.071063</td>\n",
       "      <td>-0.003114</td>\n",
       "      <td>0.121817</td>\n",
       "      <td>-0.448137</td>\n",
       "      <td>-0.695593</td>\n",
       "      <td>-0.560694</td>\n",
       "      <td>-1.000000</td>\n",
       "      <td>0.086960</td>\n",
       "      <td>...</td>\n",
       "      <td>0.048660</td>\n",
       "      <td>0.056446</td>\n",
       "      <td>0.171792</td>\n",
       "      <td>0.341198</td>\n",
       "      <td>-0.534764</td>\n",
       "      <td>-1.000000</td>\n",
       "      <td>-1.000000</td>\n",
       "      <td>0.460287</td>\n",
       "      <td>-1.000000</td>\n",
       "      <td>-0.028888</td>\n",
       "    </tr>\n",
       "    <tr>\n",
       "      <th>2</th>\n",
       "      <td>-0.422858</td>\n",
       "      <td>0.739656</td>\n",
       "      <td>-0.215121</td>\n",
       "      <td>-0.003114</td>\n",
       "      <td>-0.050027</td>\n",
       "      <td>1.023498</td>\n",
       "      <td>4.783735</td>\n",
       "      <td>-0.780347</td>\n",
       "      <td>-1.000000</td>\n",
       "      <td>-0.073232</td>\n",
       "      <td>...</td>\n",
       "      <td>-0.344587</td>\n",
       "      <td>0.320558</td>\n",
       "      <td>0.222609</td>\n",
       "      <td>0.915998</td>\n",
       "      <td>-0.534764</td>\n",
       "      <td>-1.000000</td>\n",
       "      <td>-1.000000</td>\n",
       "      <td>0.460287</td>\n",
       "      <td>-1.000000</td>\n",
       "      <td>-0.592759</td>\n",
       "    </tr>\n",
       "    <tr>\n",
       "      <th>3</th>\n",
       "      <td>-0.134288</td>\n",
       "      <td>-0.092672</td>\n",
       "      <td>0.029722</td>\n",
       "      <td>-0.003114</td>\n",
       "      <td>0.028291</td>\n",
       "      <td>-0.080228</td>\n",
       "      <td>-0.086779</td>\n",
       "      <td>-0.780347</td>\n",
       "      <td>-1.000000</td>\n",
       "      <td>0.107201</td>\n",
       "      <td>...</td>\n",
       "      <td>-0.475670</td>\n",
       "      <td>-0.207665</td>\n",
       "      <td>-0.273650</td>\n",
       "      <td>-0.233601</td>\n",
       "      <td>-0.534764</td>\n",
       "      <td>-1.000000</td>\n",
       "      <td>-1.000000</td>\n",
       "      <td>0.460287</td>\n",
       "      <td>-1.000000</td>\n",
       "      <td>-0.561433</td>\n",
       "    </tr>\n",
       "    <tr>\n",
       "      <th>4</th>\n",
       "      <td>-0.230478</td>\n",
       "      <td>-0.729265</td>\n",
       "      <td>0.304792</td>\n",
       "      <td>-0.003114</td>\n",
       "      <td>0.249034</td>\n",
       "      <td>-0.448137</td>\n",
       "      <td>-0.391186</td>\n",
       "      <td>-1.000000</td>\n",
       "      <td>-0.202531</td>\n",
       "      <td>0.039805</td>\n",
       "      <td>...</td>\n",
       "      <td>-0.650447</td>\n",
       "      <td>0.320558</td>\n",
       "      <td>-0.550546</td>\n",
       "      <td>-0.616800</td>\n",
       "      <td>-0.689843</td>\n",
       "      <td>1.672312</td>\n",
       "      <td>10.062680</td>\n",
       "      <td>-0.269856</td>\n",
       "      <td>4.140548</td>\n",
       "      <td>-0.686738</td>\n",
       "    </tr>\n",
       "  </tbody>\n",
       "</table>\n",
       "<p>5 rows × 59 columns</p>\n",
       "</div>"
      ],
      "text/plain": [
       "   n_tokens_title  n_tokens_content  n_unique_tokens  n_non_stop_words  \\\n",
       "0        0.154283         -0.335967         0.034700         -0.003114   \n",
       "1        0.058093         -0.081696         0.071063         -0.003114   \n",
       "2       -0.422858          0.739656        -0.215121         -0.003114   \n",
       "3       -0.134288         -0.092672         0.029722         -0.003114   \n",
       "4       -0.230478         -0.729265         0.304792         -0.003114   \n",
       "\n",
       "   n_non_stop_unique_tokens  num_hrefs  num_self_hrefs  num_imgs  num_videos  \\\n",
       "0                  0.115770  -0.540114       -0.086779 -0.780347   -0.202531   \n",
       "1                  0.121817  -0.448137       -0.695593 -0.560694   -1.000000   \n",
       "2                 -0.050027   1.023498        4.783735 -0.780347   -1.000000   \n",
       "3                  0.028291  -0.080228       -0.086779 -0.780347   -1.000000   \n",
       "4                  0.249034  -0.448137       -0.391186 -1.000000   -0.202531   \n",
       "\n",
       "   average_token_length    ...     min_positive_polarity  \\\n",
       "0             -0.007974    ...                 -0.650447   \n",
       "1              0.086960    ...                  0.048660   \n",
       "2             -0.073232    ...                 -0.344587   \n",
       "3              0.107201    ...                 -0.475670   \n",
       "4              0.039805    ...                 -0.650447   \n",
       "\n",
       "   max_positive_polarity  avg_negative_polarity  min_negative_polarity  \\\n",
       "0               0.320558              -0.036883              -0.233601   \n",
       "1               0.056446               0.171792               0.341198   \n",
       "2               0.320558               0.222609               0.915998   \n",
       "3              -0.207665              -0.273650              -0.233601   \n",
       "4               0.320558              -0.550546              -0.616800   \n",
       "\n",
       "   max_negative_polarity  title_subjectivity  title_sentiment_polarity  \\\n",
       "0               0.395708            1.036047                  3.938696   \n",
       "1              -0.534764           -1.000000                 -1.000000   \n",
       "2              -0.534764           -1.000000                 -1.000000   \n",
       "3              -0.534764           -1.000000                 -1.000000   \n",
       "4              -0.689843            1.672312                 10.062680   \n",
       "\n",
       "   abs_title_subjectivity  abs_title_sentiment_polarity    shares  \n",
       "0               -0.791388                      1.294888  0.597637  \n",
       "1                0.460287                     -1.000000 -0.028888  \n",
       "2                0.460287                     -1.000000 -0.592759  \n",
       "3                0.460287                     -1.000000 -0.561433  \n",
       "4               -0.269856                      4.140548 -0.686738  \n",
       "\n",
       "[5 rows x 59 columns]"
      ]
     },
     "execution_count": 92,
     "metadata": {},
     "output_type": "execute_result"
    }
   ],
   "source": [
    "#scaling e normalizando\n",
    "data2 = data2 / (data2.max() - data2.min())\n",
    "data2 = ((data2 - data2.mean()) / data2.mean())\n",
    "data2.head()"
   ]
  },
  {
   "cell_type": "code",
   "execution_count": 115,
   "metadata": {},
   "outputs": [
    {
     "data": {
      "text/plain": [
       "((31697, 58), (31697, 1), (1, 58))"
      ]
     },
     "execution_count": 115,
     "metadata": {},
     "output_type": "execute_result"
    }
   ],
   "source": [
    "cols = data2.shape[1]\n",
    "X2 = data2.iloc[:,0:cols-1]  \n",
    "y2 = data2.iloc[:,cols-1:cols]\n",
    "# X2.insert(0, 'Ones', 1)\n",
    "\n",
    "# convert to matrices and initialize theta\n",
    "X2 = np.matrix(X2.values)\n",
    "y2 = np.matrix(y2.values)\n",
    "Y = data.shares.values\n",
    "theta2 = np.matrix(np.array([0,0,0,0,0,0,0,0,0,0,0,0,0,0,0,0,0,0,0,0,0,0,0,0,0,0,0,0,0,0,0,0,0,0,0,0,0,0,0,0,0,0,0,0,0,0,0,0,0,0,0,0,0,0,0,0,0,0,]))\n",
    "\n",
    "# initialize variables for learning rate and iterations\n",
    "alpha = 0.09\n",
    "iters = 1000\n",
    "\n",
    "X2.shape, y2.shape, theta2.shape"
   ]
  },
  {
   "cell_type": "code",
   "execution_count": 116,
   "metadata": {},
   "outputs": [
    {
     "name": "stderr",
     "output_type": "stream",
     "text": [
      "/home/p4w/anaconda3/lib/python3.6/site-packages/ipykernel_launcher.py:2: RuntimeWarning: overflow encountered in power\n",
      "  \n",
      "/home/p4w/anaconda3/lib/python3.6/site-packages/numpy/core/_methods.py:32: RuntimeWarning: overflow encountered in reduce\n",
      "  return umr_sum(a, axis, dtype, out, keepdims)\n",
      "/home/p4w/anaconda3/lib/python3.6/site-packages/ipykernel_launcher.py:8: RuntimeWarning: overflow encountered in multiply\n",
      "  \n",
      "/home/p4w/anaconda3/lib/python3.6/site-packages/numpy/core/_methods.py:32: RuntimeWarning: invalid value encountered in reduce\n",
      "  return umr_sum(a, axis, dtype, out, keepdims)\n"
     ]
    },
    {
     "data": {
      "text/plain": [
       "nan"
      ]
     },
     "execution_count": 116,
     "metadata": {},
     "output_type": "execute_result"
    }
   ],
   "source": [
    "# perform linear regression on the data set\n",
    "g2, cost2 = gradientDescent(X2, y2, theta2, alpha, iters)\n",
    "\n",
    "# get the cost (error) of the model\n",
    "computeCost(X2, y2, g2)"
   ]
  },
  {
   "cell_type": "code",
   "execution_count": 117,
   "metadata": {},
   "outputs": [
    {
     "data": {
      "text/plain": [
       "Text(0.5,1,'Error vs. Training Epoch')"
      ]
     },
     "execution_count": 117,
     "metadata": {},
     "output_type": "execute_result"
    },
    {
     "data": {
      "image/png": "[encoded data removed]",
      "text/plain": [
       "<matplotlib.figure.Figure at 0x7f20a8c023c8>"
      ]
     },
     "metadata": {},
     "output_type": "display_data"
    }
   ],
   "source": [
    "fig, ax = plt.subplots(figsize=(12,8))  \n",
    "ax.plot(np.arange(iters), cost2, 'r')  \n",
    "ax.set_xlabel('Iterations')  \n",
    "ax.set_ylabel('Cost')  \n",
    "ax.set_title('Error vs. Training Epoch')"
   ]
  },
  {
   "cell_type": "code",
   "execution_count": 38,
   "metadata": {},
   "outputs": [
    {
     "name": "stdout",
     "output_type": "stream",
     "text": [
      "0.0465833217636518\n",
      "0.026215698634237006\n"
     ]
    }
   ],
   "source": [
    "# Model Evaluation - RMSE\n",
    "def rmse(Y, Y_pred):\n",
    "#     rmse = np.sqrt(sum((Y - Y_pred) ** 2) / len(Y))\n",
    "    rmse = np.sqrt(np.sum(np.asarray(Y - Y_pred) ** 2) / len(Y))\n",
    "    return rmse\n",
    "\n",
    "# Model Evaluation - R2 Score\n",
    "def r2_score(Y, Y_pred):\n",
    "    mean_y = np.mean(Y)\n",
    "    ss_tot = np.sum(np.asarray(Y - mean_y) ** 2)\n",
    "    ss_res = np.sum(np.asarray(Y - Y_pred) ** 2)\n",
    "    r2 = 1 - (ss_res / ss_tot)\n",
    "    return r2\n",
    "\n",
    "Y_pred = X2.dot(g2.T)\n",
    "\n",
    "# d = np.sqrt(np.sum(np.asarray(y2 - Y_pred) ** 2) / len(y2))\n",
    "# print(d)\n",
    "\n",
    "print(rmse(y2, Y_pred))\n",
    "print(r2_score(y2, Y_pred))"
   ]
  },
  {
   "cell_type": "markdown",
   "metadata": {},
   "source": [
    "## Predição dos dados de teste:"
   ]
  },
  {
   "cell_type": "code",
   "execution_count": 46,
   "metadata": {},
   "outputs": [
    {
     "name": "stdout",
     "output_type": "stream",
     "text": [
      "[[0.00260881]\n",
      " [0.00098898]\n",
      " [0.00166015]\n",
      " ...\n",
      " [0.00077197]\n",
      " [0.0011799 ]\n",
      " [0.00116211]]\n"
     ]
    }
   ],
   "source": [
    "#predict = g2 * x_test\n",
    "data2 = data[data.shares < 150000]\n",
    "cols = data2.shape[1]\n",
    "data2 = data2.iloc[:,2:cols]\n",
    "\n",
    "test_x = test.iloc[:,2:]\n",
    "\n",
    "#Scaling and normalizing\n",
    "# test_x = (test_x / (test_x.max() - test_x.min()))\n",
    "# data2 = (data2 / (data2.max() - data2.min()))\n",
    "\n",
    "test_x = test_x / (test_x.max() - test_x.min())\n",
    "cols = test_x.shape[1]\n",
    "test_y = test_x.iloc[:,cols-1:cols]\n",
    "test_x = test_x.iloc[:,:cols-1]\n",
    "# test_x.insert(0, 'Ones', 1)\n",
    "\n",
    "# convert to matrices and initialize theta\n",
    "test_x = np.matrix(test_x.values)\n",
    "test_y = np.matrix(test_y.values)\n",
    "print(test_y)"
   ]
  },
  {
   "cell_type": "code",
   "execution_count": 47,
   "metadata": {},
   "outputs": [
    {
     "data": {
      "text/plain": [
       "0.0001780073819566291"
      ]
     },
     "execution_count": 47,
     "metadata": {},
     "output_type": "execute_result"
    }
   ],
   "source": [
    "computeCost(test_x, test_y, g2)"
   ]
  },
  {
   "cell_type": "code",
   "execution_count": 49,
   "metadata": {},
   "outputs": [
    {
     "name": "stdout",
     "output_type": "stream",
     "text": [
      "0.018868353502975777\n",
      "-0.18160185183776445\n"
     ]
    }
   ],
   "source": [
    "Y_pred = test_x.dot(g2.T)\n",
    "print(rmse(test_y, Y_pred))\n",
    "print(r2_score(test_y, Y_pred))"
   ]
  },
  {
   "cell_type": "code",
   "execution_count": 200,
   "metadata": {},
   "outputs": [],
   "source": [
    "# prediction = test_x.dot(params)\n",
    "# prediction.tolist()"
   ]
  },
  {
   "cell_type": "code",
   "execution_count": 201,
   "metadata": {},
   "outputs": [],
   "source": [
    "# m = len(test_y)\n",
    "# for i in range(m):\n",
    "#     error = test_y[i] - prediction[i]\n",
    "# error = error / m\n",
    "# error"
   ]
  },
  {
   "cell_type": "code",
   "execution_count": 202,
   "metadata": {},
   "outputs": [],
   "source": [
    "# error = (prediction.sum() - test_y.sum()) / m\n",
    "# error"
   ]
  },
  {
   "cell_type": "markdown",
   "metadata": {},
   "source": [
    "## Normal Equation - closed-form solution"
   ]
  },
  {
   "cell_type": "code",
   "execution_count": 84,
   "metadata": {},
   "outputs": [
    {
     "name": "stdout",
     "output_type": "stream",
     "text": [
      "(31697, 58)\n"
     ]
    }
   ],
   "source": [
    "data3 = data[data.shares < 150000]\n",
    "\n",
    "data3 = data3.iloc[:,2:]\n",
    "\n",
    "cols = data3.shape[1]\n",
    "X3 = data3.iloc[:,:cols-1]  \n",
    "y3 = data3.iloc[:,cols-1:cols]\n",
    "# X3.insert(0, 'Ones', 1)\n",
    "# convert to matrices and initialize theta\n",
    "X3 = np.matrix(X3.values)\n",
    "y3 = np.matrix(y3.values)\n",
    "print(X3.shape)"
   ]
  },
  {
   "cell_type": "code",
   "execution_count": 85,
   "metadata": {},
   "outputs": [],
   "source": [
    "from numpy.linalg import inv\n",
    "def get_best_param(X3, y3):  \n",
    "    X_transpose = X3.T\n",
    "    best_params = inv(X_transpose.dot(X3)).dot(X_transpose).dot(y3) \n",
    "    # normal equation  \n",
    "    # theta_best = (X.T * X)^(-1) * X.T * y  \n",
    "    return best_params # returns a list "
   ]
  },
  {
   "cell_type": "code",
   "execution_count": 86,
   "metadata": {},
   "outputs": [],
   "source": [
    "# X_b = np.c_[np.ones((len(X3), 1)), X3]\n",
    "# X_b.shape\n",
    "params = get_best_param(X3, y3)\n",
    "# params"
   ]
  },
  {
   "cell_type": "code",
   "execution_count": 87,
   "metadata": {},
   "outputs": [
    {
     "data": {
      "text/plain": [
       "matrix([[ 5089.33641572],\n",
       "        [-1930.16871044],\n",
       "        [ 4048.39716531],\n",
       "        ...,\n",
       "        [ 3538.29648768],\n",
       "        [ 4780.24615953],\n",
       "        [ 5867.23109331]])"
      ]
     },
     "execution_count": 87,
     "metadata": {},
     "output_type": "execute_result"
    }
   ],
   "source": [
    "prediction = X3.dot(params)\n",
    "prediction"
   ]
  },
  {
   "cell_type": "code",
   "execution_count": 89,
   "metadata": {},
   "outputs": [
    {
     "data": {
      "text/plain": [
       "566.6296361919264"
      ]
     },
     "execution_count": 89,
     "metadata": {},
     "output_type": "execute_result"
    }
   ],
   "source": [
    "error = (prediction.sum() - y3.sum()) / len(X3)\n",
    "error"
   ]
  },
  {
   "cell_type": "code",
   "execution_count": 67,
   "metadata": {},
   "outputs": [],
   "source": [
    "# test prediction  aqui ao invés de jogar X2 mesmo, tem que jogar\n",
    "# a propria base de teste. e no final medir com o resultado do Y de TESTE\n",
    "# para saber se acertou mesmo ou nao.\n",
    "\n",
    "#Normalizando os dados e diminuindo a base\n",
    "#predict = g2 * x_test\n",
    "data3 = data[data.shares < 150000]\n",
    "cols = data3.shape[1]\n",
    "data3 = data3.iloc[:,2:cols]\n",
    "\n",
    "# #Scaling and normalizing\n",
    "# test_x = (test_x / (test_x.max() - test_x.min()))\n",
    "# data3 = (data3 / (data3.max() - data3.min()))\n",
    "\n",
    "test_x = test.iloc[:,2:]\n",
    "# test_x = ((test_x - data3.mean()) / data3.mean())\n",
    "cols = test_x.shape[1]\n",
    "test_x = test_x.iloc[:,:cols-1]\n",
    "# test_x.insert(0, 'Ones', 1)\n",
    "cols = test_x.shape[1]\n",
    "test_y = test_x.iloc[:,cols-1:cols] \n",
    "\n",
    "# convert to matrices and initialize theta\n",
    "test_x = np.matrix(test_x.values)\n",
    "test_y = np.matrix(test_y.values)\n",
    "prediction = test_x.dot(params)\n",
    "\n",
    "# y = h_Theta_X(Theta) = Theta.T * X  '\n",
    "# prediction.tolist()\n",
    "\n",
    "# error = test_y - prediction\n",
    "# error"
   ]
  },
  {
   "cell_type": "code",
   "execution_count": 68,
   "metadata": {},
   "outputs": [],
   "source": [
    "prediction = test_x.dot(params)\n",
    "# y = h_Theta_X(Theta) = Theta.T * X  '\n",
    "# prediction.tolist()"
   ]
  },
  {
   "cell_type": "code",
   "execution_count": 59,
   "metadata": {},
   "outputs": [
    {
     "data": {
      "text/plain": [
       "3.2622504577359273"
      ]
     },
     "execution_count": 59,
     "metadata": {},
     "output_type": "execute_result"
    }
   ],
   "source": [
    "m = len(test_y)\n",
    "for i in range(m):\n",
    "    error = test_y[i] - prediction[i]\n",
    "error = error.sum() / m\n",
    "error"
   ]
  },
  {
   "cell_type": "code",
   "execution_count": 69,
   "metadata": {},
   "outputs": [
    {
     "data": {
      "text/plain": [
       "61785.12430655759"
      ]
     },
     "execution_count": 69,
     "metadata": {},
     "output_type": "execute_result"
    }
   ],
   "source": [
    "error = (prediction.sum() - test_y.sum()) / m\n",
    "error"
   ]
  },
  {
   "cell_type": "code",
   "execution_count": null,
   "metadata": {},
   "outputs": [],
   "source": [
    "plt.plot(test_x, prediction, \"r--\")  \n",
    "plt.plot(X, y, \"b.\")  \n",
    "plt.axis() # x axis range 0 to 2, y axis range 0 to 15  \n",
    "plt.show()"
   ]
  },
  {
   "cell_type": "markdown",
   "metadata": {},
   "source": [
    "## Nando mimizando"
   ]
  },
  {
   "cell_type": "code",
   "execution_count": 31,
   "metadata": {},
   "outputs": [],
   "source": [
    "np.random.seed(0)\n",
    "thetas = np.random.rand(len(X2[0]))"
   ]
  },
  {
   "cell_type": "code",
   "execution_count": 28,
   "metadata": {},
   "outputs": [],
   "source": [
    "def compute_cost(X, y, thetas):\n",
    "  m = y.size\n",
    "  y_pred = np.dot(X, thetas)\n",
    "  errors = y_pred - y\n",
    "  sqErrors = np.dot(errors.T, errors)\n",
    "\n",
    "  cost = 1/(2*m) * sqErrors\n",
    "\n",
    "  return errors, cost\n",
    "\n",
    "def minimize(X, thetas, alpha, errors):\n",
    "  m = len(X)\n",
    "  thetas_count = thetas.size\n",
    "\n",
    "  for i in range(thetas_count):\n",
    "    feature_i = X[:, i]\n",
    "    feature_i.shape = (m, 1)\n",
    "    \n",
    "    error = np.dot(errors, feature_i)\n",
    "\n",
    "    thetas[i] = thetas[i] - alpha * (1/m) * error.sum()\n",
    "    \n",
    "  return thetas\n",
    "\n",
    "def gradient_descent(X, y, thetas, alpha, iterations):\n",
    "  m = y.size\n",
    "  past_costs = []\n",
    "  past_thetas = [thetas]\n",
    "\n",
    "  for i in range(iterations):\n",
    "    errors, cost = compute_cost(X, y, thetas)\n",
    "\n",
    "    thetas = minimize(X, thetas, alpha, errors)\n",
    "\n",
    "    past_costs.append(cost)\n",
    "    past_thetas.append(thetas)\n",
    "\n",
    "  return past_thetas, past_costs"
   ]
  },
  {
   "cell_type": "markdown",
   "metadata": {},
   "source": [
    "## Using Sklearn"
   ]
  },
  {
   "cell_type": "code",
   "execution_count": 176,
   "metadata": {},
   "outputs": [
    {
     "data": {
      "text/plain": [
       "LinearRegression(copy_X=True, fit_intercept=True, n_jobs=1, normalize=False)"
      ]
     },
     "execution_count": 176,
     "metadata": {},
     "output_type": "execute_result"
    }
   ],
   "source": [
    "from sklearn import linear_model  \n",
    "model = linear_model.LinearRegression()  \n",
    "model.fit(X, y)"
   ]
  },
  {
   "cell_type": "code",
   "execution_count": 180,
   "metadata": {},
   "outputs": [
    {
     "data": {
      "text/plain": [
       "Text(0.5,1,'Predicted Sahres vs. LDA_04')"
      ]
     },
     "execution_count": 180,
     "metadata": {},
     "output_type": "execute_result"
    },
    {
     "data": {
      "image/png": "[encoded data removed]",
      "text/plain": [
       "<matplotlib.figure.Figure at 0x7fabb8d38278>"
      ]
     },
     "metadata": {},
     "output_type": "display_data"
    }
   ],
   "source": [
    "x = np.array(X[:, 1].A1)  \n",
    "f = model.predict(X).flatten()\n",
    "\n",
    "fig, ax = plt.subplots(figsize=(12,8))  \n",
    "ax.plot(x, f, 'r', label='Prediction')  \n",
    "ax.scatter(data.LDA_04, data.shares, label='Traning Data')  \n",
    "ax.legend(loc=2)  \n",
    "ax.set_xlabel('LDA_04')  \n",
    "ax.set_ylabel('Shares')  \n",
    "ax.set_title('Predicted Sahres vs. LDA_04')  "
   ]
  },
  {
   "cell_type": "code",
   "execution_count": null,
   "metadata": {},
   "outputs": [],
   "source": []
  }
 ],
 "metadata": {
  "kernelspec": {
   "display_name": "Python 3",
   "language": "python",
   "name": "python3"
  },
  "language_info": {
   "codemirror_mode": {
    "name": "ipython",
    "version": 3
   },
   "file_extension": ".py",
   "mimetype": "text/x-python",
   "name": "python",
   "nbconvert_exporter": "python",
   "pygments_lexer": "ipython3",
   "version": "3.6.4"
  }
 },
 "nbformat": 4,
 "nbformat_minor": 2
}
